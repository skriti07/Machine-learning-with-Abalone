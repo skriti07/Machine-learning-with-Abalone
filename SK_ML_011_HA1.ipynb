{
  "nbformat": 4,
  "nbformat_minor": 0,
  "metadata": {
    "kernelspec": {
      "display_name": "Python 3",
      "language": "python",
      "name": "python3"
    },
    "language_info": {
      "codemirror_mode": {
        "name": "ipython",
        "version": 3
      },
      "file_extension": ".py",
      "mimetype": "text/x-python",
      "name": "python",
      "nbconvert_exporter": "python",
      "pygments_lexer": "ipython3",
      "version": "3.6.8"
    },
    "colab": {
      "name": "SK_ML_011_HA1.ipynb",
      "provenance": []
    }
  },
  "cells": [
    {
      "cell_type": "code",
      "metadata": {
        "id": "64ycJwoECBkk",
        "colab_type": "code",
        "outputId": "3966b5e8-704e-4098-9553-4e8cdad2347f",
        "colab": {
          "base_uri": "https://localhost:8080/",
          "height": 122
        }
      },
      "source": [
        "from google.colab import drive\n",
        "drive.mount('/content/drive')"
      ],
      "execution_count": 0,
      "outputs": [
        {
          "output_type": "stream",
          "text": [
            "Go to this URL in a browser: https://accounts.google.com/o/oauth2/auth?client_id=947318989803-6bn6qk8qdgf4n4g3pfee6491hc0brc4i.apps.googleusercontent.com&redirect_uri=urn%3Aietf%3Awg%3Aoauth%3A2.0%3Aoob&scope=email%20https%3A%2F%2Fwww.googleapis.com%2Fauth%2Fdocs.test%20https%3A%2F%2Fwww.googleapis.com%2Fauth%2Fdrive%20https%3A%2F%2Fwww.googleapis.com%2Fauth%2Fdrive.photos.readonly%20https%3A%2F%2Fwww.googleapis.com%2Fauth%2Fpeopleapi.readonly&response_type=code\n",
            "\n",
            "Enter your authorization code:\n",
            "··········\n",
            "Mounted at /content/drive\n"
          ],
          "name": "stdout"
        }
      ]
    },
    {
      "cell_type": "code",
      "metadata": {
        "id": "zyWDdjsrBwXu",
        "colab_type": "code",
        "colab": {}
      },
      "source": [
        "import pandas as pd\n",
        "import numpy as np"
      ],
      "execution_count": 0,
      "outputs": []
    },
    {
      "cell_type": "code",
      "metadata": {
        "id": "Dby23uX6BwX1",
        "colab_type": "code",
        "outputId": "b8d7f744-29e8-4cb2-ffed-46122754de8a",
        "colab": {
          "base_uri": "https://localhost:8080/",
          "height": 170
        }
      },
      "source": [
        "#path='C:/Srishtee/Btech/Sem5/Machine Learning/Assignment/HomeAss1/abalone-dataset/abalone.csv'\n",
        "path=\"/content/drive/My Drive/Machine learning 303L/abalone.csv\"\n",
        "df=pd.read_csv(path)\n",
        "print(df.shape)\n",
        "print(df.head())"
      ],
      "execution_count": 0,
      "outputs": [
        {
          "output_type": "stream",
          "text": [
            "(4177, 9)\n",
            "  Sex  Length  Diameter  ...  Viscera weight  Shell weight  Rings\n",
            "0   M   0.455     0.365  ...          0.1010         0.150     15\n",
            "1   M   0.350     0.265  ...          0.0485         0.070      7\n",
            "2   F   0.530     0.420  ...          0.1415         0.210      9\n",
            "3   M   0.440     0.365  ...          0.1140         0.155     10\n",
            "4   I   0.330     0.255  ...          0.0395         0.055      7\n",
            "\n",
            "[5 rows x 9 columns]\n"
          ],
          "name": "stdout"
        }
      ]
    },
    {
      "cell_type": "code",
      "metadata": {
        "id": "9kIm_o93BwX9",
        "colab_type": "code",
        "outputId": "7396a446-531d-4db6-922f-6e0d128f4b30",
        "colab": {
          "base_uri": "https://localhost:8080/",
          "height": 765
        }
      },
      "source": [
        "df[\"M\"] = np.nan\n",
        "df[\"F\"] = np.nan\n",
        "df[\"I\"] = np.nan\n",
        "columnName='Sex'\n",
        "for i in range (len(df[columnName])):\n",
        "    if df[columnName][i]=='M':\n",
        "      df['M'][i]=1\n",
        "      df['F'][i]=0\n",
        "      df['I'][i]=0\n",
        "    elif df[columnName][i]=='F':\n",
        "      df['M'][i]=0\n",
        "      df['F'][i]=1\n",
        "      df['I'][i]=0\n",
        "    elif df[columnName][i]=='I' :\n",
        "      df['M'][i]=0\n",
        "      df['F'][i]=0\n",
        "      df['I'][i]=1\n",
        "df=df.drop(['Sex'],axis=1)"
      ],
      "execution_count": 0,
      "outputs": [
        {
          "output_type": "stream",
          "text": [
            "/usr/local/lib/python3.6/dist-packages/ipykernel_launcher.py:7: SettingWithCopyWarning: \n",
            "A value is trying to be set on a copy of a slice from a DataFrame\n",
            "\n",
            "See the caveats in the documentation: http://pandas.pydata.org/pandas-docs/stable/indexing.html#indexing-view-versus-copy\n",
            "  import sys\n",
            "/usr/local/lib/python3.6/dist-packages/ipykernel_launcher.py:8: SettingWithCopyWarning: \n",
            "A value is trying to be set on a copy of a slice from a DataFrame\n",
            "\n",
            "See the caveats in the documentation: http://pandas.pydata.org/pandas-docs/stable/indexing.html#indexing-view-versus-copy\n",
            "  \n",
            "/usr/local/lib/python3.6/dist-packages/ipykernel_launcher.py:9: SettingWithCopyWarning: \n",
            "A value is trying to be set on a copy of a slice from a DataFrame\n",
            "\n",
            "See the caveats in the documentation: http://pandas.pydata.org/pandas-docs/stable/indexing.html#indexing-view-versus-copy\n",
            "  if __name__ == '__main__':\n",
            "/usr/local/lib/python3.6/dist-packages/ipykernel_launcher.py:11: SettingWithCopyWarning: \n",
            "A value is trying to be set on a copy of a slice from a DataFrame\n",
            "\n",
            "See the caveats in the documentation: http://pandas.pydata.org/pandas-docs/stable/indexing.html#indexing-view-versus-copy\n",
            "  # This is added back by InteractiveShellApp.init_path()\n",
            "/usr/local/lib/python3.6/dist-packages/ipykernel_launcher.py:12: SettingWithCopyWarning: \n",
            "A value is trying to be set on a copy of a slice from a DataFrame\n",
            "\n",
            "See the caveats in the documentation: http://pandas.pydata.org/pandas-docs/stable/indexing.html#indexing-view-versus-copy\n",
            "  if sys.path[0] == '':\n",
            "/usr/local/lib/python3.6/dist-packages/ipykernel_launcher.py:13: SettingWithCopyWarning: \n",
            "A value is trying to be set on a copy of a slice from a DataFrame\n",
            "\n",
            "See the caveats in the documentation: http://pandas.pydata.org/pandas-docs/stable/indexing.html#indexing-view-versus-copy\n",
            "  del sys.path[0]\n",
            "/usr/local/lib/python3.6/dist-packages/ipykernel_launcher.py:15: SettingWithCopyWarning: \n",
            "A value is trying to be set on a copy of a slice from a DataFrame\n",
            "\n",
            "See the caveats in the documentation: http://pandas.pydata.org/pandas-docs/stable/indexing.html#indexing-view-versus-copy\n",
            "  from ipykernel import kernelapp as app\n",
            "/usr/local/lib/python3.6/dist-packages/ipykernel_launcher.py:16: SettingWithCopyWarning: \n",
            "A value is trying to be set on a copy of a slice from a DataFrame\n",
            "\n",
            "See the caveats in the documentation: http://pandas.pydata.org/pandas-docs/stable/indexing.html#indexing-view-versus-copy\n",
            "  app.launch_new_instance()\n",
            "/usr/local/lib/python3.6/dist-packages/ipykernel_launcher.py:17: SettingWithCopyWarning: \n",
            "A value is trying to be set on a copy of a slice from a DataFrame\n",
            "\n",
            "See the caveats in the documentation: http://pandas.pydata.org/pandas-docs/stable/indexing.html#indexing-view-versus-copy\n"
          ],
          "name": "stderr"
        }
      ]
    },
    {
      "cell_type": "code",
      "metadata": {
        "id": "boz2R0ToNthe",
        "colab_type": "code",
        "outputId": "1febb1aa-7c3f-4784-ed0b-aa8b0932fbab",
        "colab": {
          "base_uri": "https://localhost:8080/",
          "height": 221
        }
      },
      "source": [
        "df.corr()['Rings'].sort_values()"
      ],
      "execution_count": 0,
      "outputs": [
        {
          "output_type": "execute_result",
          "data": {
            "text/plain": [
              "I                -0.436063\n",
              "M                 0.181831\n",
              "F                 0.250279\n",
              "Shucked weight    0.420884\n",
              "Viscera weight    0.503819\n",
              "Whole weight      0.540390\n",
              "Length            0.556720\n",
              "Height            0.557467\n",
              "Diameter          0.574660\n",
              "Shell weight      0.627574\n",
              "Rings             1.000000\n",
              "Name: Rings, dtype: float64"
            ]
          },
          "metadata": {
            "tags": []
          },
          "execution_count": 5
        }
      ]
    },
    {
      "cell_type": "code",
      "metadata": {
        "id": "-M017hAzBwYB",
        "colab_type": "code",
        "colab": {}
      },
      "source": [
        "from sklearn import preprocessing\n",
        "x=df.drop(['Rings'],axis=1)\n",
        "y=df['Rings']\n",
        "x = preprocessing.normalize(x)"
      ],
      "execution_count": 0,
      "outputs": []
    },
    {
      "cell_type": "code",
      "metadata": {
        "id": "7QdMjiIFBwYE",
        "colab_type": "code",
        "colab": {}
      },
      "source": [
        "from sklearn.model_selection import train_test_split\n",
        "x_train, x_test, y_train, y_test = train_test_split(x, y, test_size = 0.3, random_state = 0)"
      ],
      "execution_count": 0,
      "outputs": []
    },
    {
      "cell_type": "markdown",
      "metadata": {
        "id": "LRtDr211-tog",
        "colab_type": "text"
      },
      "source": [
        "# Without Regularization"
      ]
    },
    {
      "cell_type": "markdown",
      "metadata": {
        "id": "D1mfpeUx2e0a",
        "colab_type": "text"
      },
      "source": [
        "**Decision Tree**"
      ]
    },
    {
      "cell_type": "code",
      "metadata": {
        "id": "-FetFsjnBwYI",
        "colab_type": "code",
        "outputId": "45423a79-ec71-4d7a-d843-82baf5f20a7a",
        "colab": {
          "base_uri": "https://localhost:8080/",
          "height": 68
        }
      },
      "source": [
        "from sklearn.metrics import mean_squared_error\n",
        "from sklearn.metrics import mean_absolute_error\n",
        "from sklearn.tree import DecisionTreeRegressor  \n",
        "from sklearn.metrics import r2_score\n",
        "regressor = DecisionTreeRegressor(random_state = 0)  \n",
        "regressor.fit(x_train, y_train) \n",
        "y_predicted1 = regressor.predict(x_test)\n",
        "mse1=mean_squared_error(y_test, y_predicted1)\n",
        "r21=r2_score(y_test, y_predicted1)\n",
        "mae1=mean_absolute_error(y_test,y_predicted1)\n",
        "print(\"Mean Absolute error %.2f\"%mae1)\n",
        "print(\"Mean squared error for Decision Tree %.2f\" % mse1)\n",
        "print(\"R2 score for Decision Tree: %.2f\"% r21) "
      ],
      "execution_count": 0,
      "outputs": [
        {
          "output_type": "stream",
          "text": [
            "Mean Absolute error 2.08\n",
            "Mean squared error for Decision Tree 9.04\n",
            "R2 score for Decision Tree: 0.14\n"
          ],
          "name": "stdout"
        }
      ]
    },
    {
      "cell_type": "markdown",
      "metadata": {
        "id": "FPPXw9a02jB8",
        "colab_type": "text"
      },
      "source": [
        "**Linear Regression**"
      ]
    },
    {
      "cell_type": "code",
      "metadata": {
        "id": "6ced2YkbBwYL",
        "colab_type": "code",
        "outputId": "f3c3a18c-8bae-46a1-c089-7980bbeae57d",
        "colab": {
          "base_uri": "https://localhost:8080/",
          "height": 68
        }
      },
      "source": [
        "from sklearn.linear_model import LinearRegression\n",
        "linearRegressor = LinearRegression()\n",
        "linearRegressor.fit(x_train, y_train)\n",
        "y_predicted2 = linearRegressor.predict(x_test)\n",
        "mse2=mean_squared_error(y_test, y_predicted2)\n",
        "r22=r2_score(y_test, y_predicted2)\n",
        "mae2=mean_absolute_error(y_test,y_predicted2)\n",
        "print(\"Mean Absolute error %.2f\"%mae2)\n",
        "print(\"Mean squared error for Linear Regression %.2f\" % mse2)\n",
        "print(\"R2 score for Linear Regression: %.2f\"% r22) "
      ],
      "execution_count": 0,
      "outputs": [
        {
          "output_type": "stream",
          "text": [
            "Mean Absolute error 1.51\n",
            "Mean squared error for Linear Regression 4.74\n",
            "R2 score for Linear Regression: 0.55\n"
          ],
          "name": "stdout"
        }
      ]
    },
    {
      "cell_type": "markdown",
      "metadata": {
        "id": "joKDPFm62rPl",
        "colab_type": "text"
      },
      "source": [
        "**Polynomial Regression**"
      ]
    },
    {
      "cell_type": "code",
      "metadata": {
        "id": "LlG635scpgP8",
        "colab_type": "code",
        "outputId": "5e882684-7472-4cf9-ae20-d54dfc3af120",
        "colab": {
          "base_uri": "https://localhost:8080/",
          "height": 68
        }
      },
      "source": [
        "from sklearn.preprocessing import PolynomialFeatures\n",
        "polynomial_features= PolynomialFeatures(degree=2)\n",
        "x_poly = polynomial_features.fit_transform(x_train)\n",
        "x_poly_test = polynomial_features.fit_transform(x_test)\n",
        "model = LinearRegression()\n",
        "model.fit(x_poly, y_train)\n",
        "y_predicted3 = model.predict(x_poly_test)\n",
        "mse3=mean_squared_error(y_test, y_predicted3)\n",
        "r23=r2_score(y_test, y_predicted3)\n",
        "mae3=mean_absolute_error(y_test,y_predicted3)\n",
        "print(\"Mean Absolute error %.2f\"%mae3)\n",
        "print(\"Mean squared error for Polynomial Regression %.2f\" % mse3)\n",
        "print(\"R2 score for Polynomial Regression: %.2f\"% r23) "
      ],
      "execution_count": 0,
      "outputs": [
        {
          "output_type": "stream",
          "text": [
            "Mean Absolute error 1.46\n",
            "Mean squared error for Polynomial Regression 4.40\n",
            "R2 score for Polynomial Regression: 0.58\n"
          ],
          "name": "stdout"
        }
      ]
    },
    {
      "cell_type": "markdown",
      "metadata": {
        "id": "8YQ4BeHj2yK1",
        "colab_type": "text"
      },
      "source": [
        "**Random Forest**"
      ]
    },
    {
      "cell_type": "code",
      "metadata": {
        "id": "Mqh2-Nr0pkKx",
        "colab_type": "code",
        "outputId": "669e686f-e6cd-430f-b846-a9cf9de70685",
        "colab": {
          "base_uri": "https://localhost:8080/",
          "height": 122
        }
      },
      "source": [
        "from sklearn.ensemble import RandomForestClassifier\n",
        "rf = RandomForestClassifier()\n",
        "rf.fit(x_train,y_train);\n",
        "y_predicted4 = rf.predict(x_test)\n",
        "mse4=mean_squared_error(y_test, y_predicted4)\n",
        "r24=r2_score(y_test, y_predicted4)\n",
        "mae4=mean_absolute_error(y_test,y_predicted4)\n",
        "print(\"Mean Absolute error Random Forest %.2f\"%mae2)\n",
        "print(\"Mean squared error for Random Forest %.2f\" % mse4)\n",
        "print(\"R2 score for Random Forest: %.2f\"% r24) "
      ],
      "execution_count": 0,
      "outputs": [
        {
          "output_type": "stream",
          "text": [
            "Mean Absolute error Random Forest 1.51\n",
            "Mean squared error for Random Forest 6.93\n",
            "R2 score for Random Forest: 0.34\n"
          ],
          "name": "stdout"
        },
        {
          "output_type": "stream",
          "text": [
            "/usr/local/lib/python3.6/dist-packages/sklearn/ensemble/forest.py:245: FutureWarning: The default value of n_estimators will change from 10 in version 0.20 to 100 in 0.22.\n",
            "  \"10 in version 0.20 to 100 in 0.22.\", FutureWarning)\n"
          ],
          "name": "stderr"
        }
      ]
    },
    {
      "cell_type": "markdown",
      "metadata": {
        "id": "TFYT2CMO22hG",
        "colab_type": "text"
      },
      "source": [
        "**Neural Network**"
      ]
    },
    {
      "cell_type": "code",
      "metadata": {
        "id": "fINrbRAYpnJN",
        "colab_type": "code",
        "outputId": "b592b929-f1f4-40fd-d2d0-9d26642bdad3",
        "colab": {
          "base_uri": "https://localhost:8080/",
          "height": 34
        }
      },
      "source": [
        "import warnings\n",
        "warnings.filterwarnings('ignore')\n",
        "#import keras\n",
        "from keras.models import Sequential,model_from_json\n",
        "from keras.layers import Dense\n",
        "from keras.optimizers import RMSprop"
      ],
      "execution_count": 0,
      "outputs": [
        {
          "output_type": "stream",
          "text": [
            "Using TensorFlow backend.\n"
          ],
          "name": "stderr"
        }
      ]
    },
    {
      "cell_type": "code",
      "metadata": {
        "id": "PJA0pwJiprGQ",
        "colab_type": "code",
        "outputId": "01120725-712d-436f-e6ac-e48e479f1517",
        "colab": {
          "base_uri": "https://localhost:8080/",
          "height": 833
        }
      },
      "source": [
        "model = Sequential()\n",
        "model.add(Dense(256, activation='relu', input_shape=(10,)))\n",
        "model.add(Dense(256, activation='relu'))\n",
        "model.add(Dense(256, activation='relu'))\n",
        "model.add(Dense(256, activation='relu'))\n",
        "model.add(Dense(1, activation='relu'))\n",
        "model.summary()\n",
        "model.compile(loss=['mean_squared_error'], optimizer='adam', metrics=['mean_absolute_error'])\n",
        "history = model.fit(x_train,y_train,batch_size=100,epochs=15,verbose=1)"
      ],
      "execution_count": 0,
      "outputs": [
        {
          "output_type": "stream",
          "text": [
            "Model: \"sequential_18\"\n",
            "_________________________________________________________________\n",
            "Layer (type)                 Output Shape              Param #   \n",
            "=================================================================\n",
            "dense_86 (Dense)             (None, 256)               2816      \n",
            "_________________________________________________________________\n",
            "dense_87 (Dense)             (None, 256)               65792     \n",
            "_________________________________________________________________\n",
            "dense_88 (Dense)             (None, 256)               65792     \n",
            "_________________________________________________________________\n",
            "dense_89 (Dense)             (None, 256)               65792     \n",
            "_________________________________________________________________\n",
            "dense_90 (Dense)             (None, 1)                 257       \n",
            "=================================================================\n",
            "Total params: 200,449\n",
            "Trainable params: 200,449\n",
            "Non-trainable params: 0\n",
            "_________________________________________________________________\n",
            "Epoch 1/15\n",
            "2923/2923 [==============================] - 1s 506us/step - loss: 45.5806 - mean_absolute_error: 5.4218\n",
            "Epoch 2/15\n",
            "2923/2923 [==============================] - 0s 89us/step - loss: 8.0907 - mean_absolute_error: 2.0496\n",
            "Epoch 3/15\n",
            "2923/2923 [==============================] - 0s 92us/step - loss: 6.7981 - mean_absolute_error: 1.8658\n",
            "Epoch 4/15\n",
            "2923/2923 [==============================] - 0s 88us/step - loss: 6.5251 - mean_absolute_error: 1.8450\n",
            "Epoch 5/15\n",
            "2923/2923 [==============================] - 0s 89us/step - loss: 6.4057 - mean_absolute_error: 1.8408\n",
            "Epoch 6/15\n",
            "2923/2923 [==============================] - 0s 91us/step - loss: 6.0485 - mean_absolute_error: 1.7727\n",
            "Epoch 7/15\n",
            "2923/2923 [==============================] - 0s 94us/step - loss: 5.8768 - mean_absolute_error: 1.7626\n",
            "Epoch 8/15\n",
            "2923/2923 [==============================] - 0s 84us/step - loss: 5.5824 - mean_absolute_error: 1.6944\n",
            "Epoch 9/15\n",
            "2923/2923 [==============================] - 0s 87us/step - loss: 5.2564 - mean_absolute_error: 1.6679\n",
            "Epoch 10/15\n",
            "2923/2923 [==============================] - 0s 88us/step - loss: 4.9622 - mean_absolute_error: 1.6012\n",
            "Epoch 11/15\n",
            "2923/2923 [==============================] - 0s 91us/step - loss: 4.8323 - mean_absolute_error: 1.5863\n",
            "Epoch 12/15\n",
            "2923/2923 [==============================] - 0s 86us/step - loss: 4.5694 - mean_absolute_error: 1.5414\n",
            "Epoch 13/15\n",
            "2923/2923 [==============================] - 0s 88us/step - loss: 4.5394 - mean_absolute_error: 1.5362\n",
            "Epoch 14/15\n",
            "2923/2923 [==============================] - 0s 87us/step - loss: 4.4748 - mean_absolute_error: 1.5186\n",
            "Epoch 15/15\n",
            "2923/2923 [==============================] - 0s 86us/step - loss: 4.4710 - mean_absolute_error: 1.5137\n"
          ],
          "name": "stdout"
        }
      ]
    },
    {
      "cell_type": "code",
      "metadata": {
        "id": "9XZqrC9ZqYyn",
        "colab_type": "code",
        "outputId": "2e0cffcc-6165-475f-8cfc-4a393c0494d2",
        "colab": {
          "base_uri": "https://localhost:8080/",
          "height": 68
        }
      },
      "source": [
        "train=model.evaluate(x_train, y_train)\n",
        "test=model.evaluate(x_test, y_test, verbose=1)\n",
        "print(\"Test accuracy\",test)"
      ],
      "execution_count": 0,
      "outputs": [
        {
          "output_type": "stream",
          "text": [
            "2923/2923 [==============================] - 1s 187us/step\n",
            "1254/1254 [==============================] - 0s 39us/step\n",
            "Test accuracy [4.808178156186519, 1.6378705733510677]\n"
          ],
          "name": "stdout"
        }
      ]
    },
    {
      "cell_type": "markdown",
      "metadata": {
        "id": "MdZK4ppjPyA6",
        "colab_type": "text"
      },
      "source": [
        "**SVM**"
      ]
    },
    {
      "cell_type": "code",
      "metadata": {
        "id": "mpL8LPpWNujv",
        "colab_type": "code",
        "outputId": "20704d40-5b31-453e-85f3-7351f3898f0f",
        "colab": {
          "base_uri": "https://localhost:8080/",
          "height": 68
        }
      },
      "source": [
        "from sklearn.svm import SVR\n",
        "regressor = SVR(kernel='rbf')\n",
        "regressor.fit(x_train,y_train)\n",
        "#5 Predicting a new result\n",
        "y_predicted7 = regressor.predict(x_test)\n",
        "mse7=mean_squared_error(y_test, y_predicted7)\n",
        "r27=r2_score(y_test, y_predicted7)\n",
        "mae7=mean_absolute_error(y_test,y_predicted7)\n",
        "print(\"Mean Absolute error %.2f\"%mae7)\n",
        "print(\"Mean squared error for SVM %.2f\" % mse7)\n",
        "print(\"R2 score for SVM: %.2f\"% r27) "
      ],
      "execution_count": 0,
      "outputs": [
        {
          "output_type": "stream",
          "text": [
            "Mean Absolute error 1.70\n",
            "Mean squared error for SVM 6.71\n",
            "R2 score for SVM: 0.36\n"
          ],
          "name": "stdout"
        }
      ]
    },
    {
      "cell_type": "markdown",
      "metadata": {
        "id": "uEBkPzbC-a8M",
        "colab_type": "text"
      },
      "source": [
        "# With Regularization"
      ]
    },
    {
      "cell_type": "markdown",
      "metadata": {
        "id": "_beEy-LFAADD",
        "colab_type": "text"
      },
      "source": [
        "**Linear Regression with Ridge**"
      ]
    },
    {
      "cell_type": "code",
      "metadata": {
        "id": "gvEv8LvcAria",
        "colab_type": "code",
        "outputId": "14407d38-4384-4db7-ddd0-4792d6d91862",
        "colab": {
          "base_uri": "https://localhost:8080/",
          "height": 68
        }
      },
      "source": [
        "from sklearn.linear_model import Ridge\n",
        "ridge = Ridge()\n",
        "ridge.fit(x_train, y_train)\n",
        "y_predicted5 = ridge.predict(x_test)\n",
        "mse5=mean_squared_error(y_test, y_predicted5)\n",
        "r25=r2_score(y_test, y_predicted5)\n",
        "mae5=mean_absolute_error(y_test,y_predicted5)\n",
        "print(\"Mean Absolute error %.2f\"%mae5)\n",
        "print(\"Mean squared error  %.2f\" % mse5)\n",
        "print(\"R2 score: %.2f\"% r25) "
      ],
      "execution_count": 0,
      "outputs": [
        {
          "output_type": "stream",
          "text": [
            "Mean Absolute error 1.53\n",
            "Mean squared error  4.83\n",
            "R2 score: 0.54\n"
          ],
          "name": "stdout"
        }
      ]
    },
    {
      "cell_type": "markdown",
      "metadata": {
        "id": "uWr9eosSAEcs",
        "colab_type": "text"
      },
      "source": [
        "**Linear Regression with Lasso**"
      ]
    },
    {
      "cell_type": "code",
      "metadata": {
        "id": "1TiByIoMBeSL",
        "colab_type": "code",
        "outputId": "dcbd7b23-4592-46cc-8886-047b0709613d",
        "colab": {
          "base_uri": "https://localhost:8080/",
          "height": 68
        }
      },
      "source": [
        "from sklearn.linear_model import Lasso\n",
        "lasso = Lasso()\n",
        "lasso.fit(x_train, y_train)\n",
        "y_predicted6 = lasso.predict(x_test)\n",
        "mse6=mean_squared_error(y_test, y_predicted6)\n",
        "r26=r2_score(y_test, y_predicted6)\n",
        "mae6=mean_absolute_error(y_test,y_predicted6)\n",
        "print(\"Mean Absolute error %.2f\"%mae6)\n",
        "print(\"Mean squared error for Linear Regression %.2f\" % mse6)\n",
        "print(\"R2 score for Linear Regression: %.2f\"% r26) "
      ],
      "execution_count": 0,
      "outputs": [
        {
          "output_type": "stream",
          "text": [
            "Mean Absolute error 2.42\n",
            "Mean squared error for Linear Regression 10.55\n",
            "R2 score for Linear Regression: -0.00\n"
          ],
          "name": "stdout"
        }
      ]
    }
  ]
}